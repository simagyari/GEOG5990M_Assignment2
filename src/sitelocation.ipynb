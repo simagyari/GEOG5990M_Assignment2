{
 "cells": [
  {
   "cell_type": "markdown",
   "metadata": {},
   "source": [
    "# Site location mapper for the United Kingdom"
   ]
  },
  {
   "cell_type": "markdown",
   "metadata": {},
   "source": [
    "### Import statements"
   ]
  },
  {
   "cell_type": "code",
   "execution_count": null,
   "metadata": {},
   "outputs": [],
   "source": [
    "# show maps in separate window\n",
    "import tkinter as tk\n",
    "import matplotlib\n",
    "%matplotlib qt\n",
    "matplotlib.use(\"TkAgg\")\n",
    "import matplotlib.pyplot as plt\n",
    "import numpy as np\n",
    "from tkinter.filedialog import asksaveasfilename\n",
    "import csv"
   ]
  },
  {
   "cell_type": "code",
   "execution_count": 16,
   "metadata": {},
   "outputs": [],
   "source": [
    "class SiteLocator(tk.Tk):\n",
    "    \n",
    "    def __init__(self):\n",
    "        super().__init__()  # attributes of tk.Tk\n",
    "        # Window properties\n",
    "        self.title(\"Industrial Site Locator\")\n",
    "        self.geometry(\"1000x800\")\n",
    "        # Map variables\n",
    "        self.geoweight = tk.IntVar(self, value=100)\n",
    "        self.popweight = tk.IntVar(self, value=100)\n",
    "        self.transweight = tk.IntVar(self, value=100)\n",
    "        # Currently displayed raster variable\n",
    "        self.current_raster = [0]\n",
    "        # Figure variable\n",
    "        self.fig = matplotlib.figure.Figure(figsize=(5, 8))  # do not use plt figure, that pops up second window\n",
    "        self.ax = self.fig.add_subplot(111, visible=False)  # do not show until first map shows up\n",
    "        # Frames\n",
    "        self.infoframe = tk.Frame(self, bg=\"white\")\n",
    "        self.infoframe.pack(side=\"left\", expand=1, fill=\"both\")\n",
    "        self.mapframe = tk.Frame(self, bg=\"white\")\n",
    "        self.mapframe.pack(side=\"right\", expand=1, fill=\"both\")\n",
    "        # Text labels\n",
    "        # Title of the application\n",
    "        # Bold adapted from https://stackoverflow.com/a/46495200/18668457\n",
    "        self.maintext = tk.Label(self.infoframe, text=\"Industrial Site\\nLocator\", bg=\"white\", borderwidth=0, highlightthickness=0, font=(\"Arial\", 30, \"bold\"), fg=\"#31a354\")\n",
    "        self.maintext.place(relx=0.1, rely=0.1, relheight=0.15, relwidth=0.8, anchor=\"nw\")\n",
    "        # Explanatory text\n",
    "        self.explanation = tk.Label(self.infoframe, text=\"Use the scrollbars to adjust the importance of factors.\\nYou can display and save the maps to .csv files.\", bg=\"white\", borderwidth=0, highlightthickness=0, font=(\"Arial\", 10))\n",
    "        self.explanation.place(relx=0.1, rely=0.25, relheight=0.1, relwidth=0.8, anchor=\"nw\")\n",
    "        # Scales\n",
    "        # Highlightthickness adapted from https://stackoverflow.com/a/4311134/18668457\n",
    "        self.geoscale = tk.Scale(self.infoframe, from_=0, to=100, orient=\"horizontal\", variable=self.geoweight, label=\"Geology\", bg=\"white\", troughcolor=\"#a1d99b\", bd=0, highlightthickness=0, activebackground=\"white\", font=(\"Arial\", 10, 'bold'))\n",
    "        self.geoscale.place(relx=0.1, rely=0.4, relheight=0.1, relwidth=0.8, anchor=\"nw\")\n",
    "        self.popscale = tk.Scale(self.infoframe, from_=0, to=100, orient=\"horizontal\", variable=self.popweight, label=\"Population\", bg=\"white\", troughcolor=\"#a1d99b\", bd=0, highlightthickness=0, activebackground=\"white\", font=(\"Arial\", 10, 'bold'))\n",
    "        self.popscale.place(relx=0.1, rely=0.5, relheight=0.1, relwidth=0.8, anchor=\"nw\")\n",
    "        self.transscale = tk.Scale(self.infoframe, from_=0, to=100, orient=\"horizontal\", variable=self.transweight, label=\"Transport\", bg=\"white\", troughcolor=\"#a1d99b\", bd=0, highlightthickness=0, activebackground=\"white\", font=(\"Arial\", 10, 'bold'))\n",
    "        self.transscale.place(relx=0.1, rely=0.6, relheight=0.1, relwidth=0.8, anchor=\"nw\")\n",
    "        # Display button\n",
    "        self.displaybutton = tk.Button(self.infoframe, text=\"Display map\", command=self.display, bg=\"#31a354\", bd=1, fg=\"white\")\n",
    "        self.displaybutton.place(relx=0.1, rely=0.8, relheight=0.1, relwidth=0.35, anchor=\"nw\")\n",
    "        # Saving functionality\n",
    "        self.savebutton = tk.Button(self.infoframe, text=\"Save map\", command=self.save, bg=\"red\", bd=1, fg=\"white\")\n",
    "        self.savebutton.place(relx=0.55, rely=0.8, relheight=0.1, relwidth=0.35, anchor=\"nw\")\n",
    "        # Canvas\n",
    "        self.canvas = matplotlib.backends.backend_tkagg.FigureCanvasTkAgg(self.fig, master=self.mapframe)\n",
    "        self.canvas._tkcanvas.place(relx=0, rely=0, relheight=1, relwidth=1, anchor=\"nw\")\n",
    "\n",
    "    def display(self):\n",
    "        rasters = self.raster_reader()\n",
    "        weights = self.weight_reader()\n",
    "        avg_raster = self.raster_overlayer(rasters, weights)\n",
    "        self.current_raster = avg_raster\n",
    "        self.shower(avg_raster)\n",
    "\n",
    "    def shower(self, raster: list) -> None:\n",
    "        self.ax.set_visible(True)  # set subplot visible with the correct axis\n",
    "        img = self.ax.imshow(raster, cmap=\"gray\")\n",
    "        self.canvas.draw()\n",
    "\n",
    "    def raster_reader(self) -> list:\n",
    "        rasters = [np.genfromtxt(\"geology.csv\", dtype=int, delimiter=\",\"), np.genfromtxt(\"population.csv\", dtype=int, delimiter=\",\"), \\\n",
    "            np.genfromtxt(\"transport.csv\", dtype=int, delimiter=\",\")]\n",
    "        return rasters\n",
    "\n",
    "    def weight_reader(self) -> list:\n",
    "        weights = [self.geoweight.get(), self.popweight.get(), self.transweight.get()]\n",
    "        return weights\n",
    "\n",
    "    def raster_overlayer(self, rasters: list, weights: list) -> list:\n",
    "        # Zip function from https://stackoverflow.com/a/1663826/18668457\n",
    "        # np.multiply from https://numpy.org/doc/stable/reference/generated/numpy.multiply.html\n",
    "        weighted_rasters = [np.multiply(raster, weight) for raster, weight in zip(rasters, weights)]\n",
    "        # Take average of the weighted rasters\n",
    "        avg_ras = np.sum(weighted_rasters, axis=0) / len(weighted_rasters)\n",
    "        # Amax adapted from https://numpy.org/doc/stable/reference/generated/numpy.amax.html\n",
    "        # Astype adapted from https://appdividend.com/2020/05/06/how-to-convert-numpy-float-to-int-array-in-python/#:~:text=To%20convert%20numpy%20float%20to%20int%20array%20in%20Python%2C%20use,it%20into%20an%20integer%20array.\n",
    "        rounded_ras = np.round(np.multiply(avg_ras, 255/np.amax(avg_ras))).astype(int)\n",
    "        return rounded_ras\n",
    "\n",
    "    def save(self):\n",
    "        filename = asksaveasfilename(defaultextension=\".csv\", filetypes=[(\"Comma Separated Values\", \"*.csv\")])\n",
    "        with open(filename, \"w\") as f:\n",
    "            writer = csv.writer(f)\n",
    "            for line in self.current_raster:\n",
    "                writer.writerow(line)\n",
    "        tk.messagebox.showinfo(\"Industrial Site Locator - information\", \"Your map has been saved as {}\".format(filename))\n",
    "        "
   ]
  },
  {
   "cell_type": "code",
   "execution_count": 17,
   "metadata": {},
   "outputs": [],
   "source": [
    "# Main function to initialise object and start execution\n",
    "def main():\n",
    "    root = SiteLocator()  # new SiteLocator object\n",
    "    root.mainloop()\n",
    "\n",
    "if __name__ == \"__main__\":\n",
    "    main()"
   ]
  }
 ],
 "metadata": {
  "interpreter": {
   "hash": "03cc278677560ef5ea7d855a30fbfe14f742e44106a03ce5f8b51cb9ab727066"
  },
  "kernelspec": {
   "display_name": "Python 3.9.7 ('base')",
   "language": "python",
   "name": "python3"
  },
  "language_info": {
   "codemirror_mode": {
    "name": "ipython",
    "version": 3
   },
   "file_extension": ".py",
   "mimetype": "text/x-python",
   "name": "python",
   "nbconvert_exporter": "python",
   "pygments_lexer": "ipython3",
   "version": "3.9.7"
  },
  "orig_nbformat": 4
 },
 "nbformat": 4,
 "nbformat_minor": 2
}
